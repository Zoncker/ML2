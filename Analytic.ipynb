{
 "cells": [
  {
   "cell_type": "markdown",
   "metadata": {},
   "source": [
    "**Аналитические оценки обобщающей способности**"
   ]
  },
  {
   "cell_type": "code",
   "execution_count": 7,
   "metadata": {},
   "outputs": [],
   "source": [
    "import itertools\n",
    "import time\n",
    "import numpy as np\n",
    "import pandas as pd\n",
    "import seaborn as sns\n",
    "import statsmodels.api as sm\n",
    "import matplotlib.pyplot as plt\n",
    "from sklearn import linear_model\n",
    "from sklearn.metrics import mean_squared_error\n",
    "\n",
    "%matplotlib inline\n",
    "plt.style.use('ggplot')"
   ]
  },
  {
   "cell_type": "markdown",
   "metadata": {},
   "source": [
    "Датасет кредитной истории для линейной регрессии. Есть и качественные признаки."
   ]
  },
  {
   "cell_type": "code",
   "execution_count": 4,
   "metadata": {},
   "outputs": [
    {
     "data": {
      "text/html": [
       "<div>\n",
       "<style scoped>\n",
       "    .dataframe tbody tr th:only-of-type {\n",
       "        vertical-align: middle;\n",
       "    }\n",
       "\n",
       "    .dataframe tbody tr th {\n",
       "        vertical-align: top;\n",
       "    }\n",
       "\n",
       "    .dataframe thead th {\n",
       "        text-align: right;\n",
       "    }\n",
       "</style>\n",
       "<table border=\"1\" class=\"dataframe\">\n",
       "  <thead>\n",
       "    <tr style=\"text-align: right;\">\n",
       "      <th></th>\n",
       "      <th>Income</th>\n",
       "      <th>Limit</th>\n",
       "      <th>Rating</th>\n",
       "      <th>Cards</th>\n",
       "      <th>Age</th>\n",
       "      <th>Education</th>\n",
       "      <th>Gender</th>\n",
       "      <th>Student</th>\n",
       "      <th>Married</th>\n",
       "      <th>Ethnicity</th>\n",
       "      <th>Balance</th>\n",
       "    </tr>\n",
       "  </thead>\n",
       "  <tbody>\n",
       "    <tr>\n",
       "      <th>0</th>\n",
       "      <td>14.891</td>\n",
       "      <td>3606</td>\n",
       "      <td>283</td>\n",
       "      <td>2</td>\n",
       "      <td>34</td>\n",
       "      <td>11</td>\n",
       "      <td>Male</td>\n",
       "      <td>No</td>\n",
       "      <td>Yes</td>\n",
       "      <td>Caucasian</td>\n",
       "      <td>333</td>\n",
       "    </tr>\n",
       "    <tr>\n",
       "      <th>1</th>\n",
       "      <td>106.025</td>\n",
       "      <td>6645</td>\n",
       "      <td>483</td>\n",
       "      <td>3</td>\n",
       "      <td>82</td>\n",
       "      <td>15</td>\n",
       "      <td>Female</td>\n",
       "      <td>Yes</td>\n",
       "      <td>Yes</td>\n",
       "      <td>Asian</td>\n",
       "      <td>903</td>\n",
       "    </tr>\n",
       "    <tr>\n",
       "      <th>2</th>\n",
       "      <td>104.593</td>\n",
       "      <td>7075</td>\n",
       "      <td>514</td>\n",
       "      <td>4</td>\n",
       "      <td>71</td>\n",
       "      <td>11</td>\n",
       "      <td>Male</td>\n",
       "      <td>No</td>\n",
       "      <td>No</td>\n",
       "      <td>Asian</td>\n",
       "      <td>580</td>\n",
       "    </tr>\n",
       "  </tbody>\n",
       "</table>\n",
       "</div>"
      ],
      "text/plain": [
       "    Income  Limit  Rating  Cards  Age  Education  Gender Student Married  \\\n",
       "0   14.891   3606     283      2   34         11    Male      No     Yes   \n",
       "1  106.025   6645     483      3   82         15  Female     Yes     Yes   \n",
       "2  104.593   7075     514      4   71         11    Male      No      No   \n",
       "\n",
       "   Ethnicity  Balance  \n",
       "0  Caucasian      333  \n",
       "1      Asian      903  \n",
       "2      Asian      580  "
      ]
     },
     "execution_count": 4,
     "metadata": {},
     "output_type": "execute_result"
    }
   ],
   "source": [
    "credit = pd.read_csv('Credit.csv', usecols=list(range(1,12)))\n",
    "credit.head(3)"
   ]
  },
  {
   "cell_type": "markdown",
   "metadata": {},
   "source": [
    "**Кодируем качественные признаки**"
   ]
  },
  {
   "cell_type": "code",
   "execution_count": 5,
   "metadata": {},
   "outputs": [
    {
     "data": {
      "text/html": [
       "<div>\n",
       "<style scoped>\n",
       "    .dataframe tbody tr th:only-of-type {\n",
       "        vertical-align: middle;\n",
       "    }\n",
       "\n",
       "    .dataframe tbody tr th {\n",
       "        vertical-align: top;\n",
       "    }\n",
       "\n",
       "    .dataframe thead th {\n",
       "        text-align: right;\n",
       "    }\n",
       "</style>\n",
       "<table border=\"1\" class=\"dataframe\">\n",
       "  <thead>\n",
       "    <tr style=\"text-align: right;\">\n",
       "      <th></th>\n",
       "      <th>Income</th>\n",
       "      <th>Limit</th>\n",
       "      <th>Rating</th>\n",
       "      <th>Cards</th>\n",
       "      <th>Age</th>\n",
       "      <th>Education</th>\n",
       "      <th>Balance</th>\n",
       "      <th>Gender_Male</th>\n",
       "      <th>Student_Yes</th>\n",
       "      <th>Married_Yes</th>\n",
       "      <th>Ethnicity_Asian</th>\n",
       "      <th>Ethnicity_Caucasian</th>\n",
       "    </tr>\n",
       "  </thead>\n",
       "  <tbody>\n",
       "    <tr>\n",
       "      <th>0</th>\n",
       "      <td>14.891</td>\n",
       "      <td>3606</td>\n",
       "      <td>283</td>\n",
       "      <td>2</td>\n",
       "      <td>34</td>\n",
       "      <td>11</td>\n",
       "      <td>333</td>\n",
       "      <td>1</td>\n",
       "      <td>0</td>\n",
       "      <td>1</td>\n",
       "      <td>0</td>\n",
       "      <td>1</td>\n",
       "    </tr>\n",
       "    <tr>\n",
       "      <th>1</th>\n",
       "      <td>106.025</td>\n",
       "      <td>6645</td>\n",
       "      <td>483</td>\n",
       "      <td>3</td>\n",
       "      <td>82</td>\n",
       "      <td>15</td>\n",
       "      <td>903</td>\n",
       "      <td>0</td>\n",
       "      <td>1</td>\n",
       "      <td>1</td>\n",
       "      <td>1</td>\n",
       "      <td>0</td>\n",
       "    </tr>\n",
       "    <tr>\n",
       "      <th>2</th>\n",
       "      <td>104.593</td>\n",
       "      <td>7075</td>\n",
       "      <td>514</td>\n",
       "      <td>4</td>\n",
       "      <td>71</td>\n",
       "      <td>11</td>\n",
       "      <td>580</td>\n",
       "      <td>1</td>\n",
       "      <td>0</td>\n",
       "      <td>0</td>\n",
       "      <td>1</td>\n",
       "      <td>0</td>\n",
       "    </tr>\n",
       "  </tbody>\n",
       "</table>\n",
       "</div>"
      ],
      "text/plain": [
       "    Income  Limit  Rating  Cards  Age  Education  Balance  Gender_Male  \\\n",
       "0   14.891   3606     283      2   34         11      333            1   \n",
       "1  106.025   6645     483      3   82         15      903            0   \n",
       "2  104.593   7075     514      4   71         11      580            1   \n",
       "\n",
       "   Student_Yes  Married_Yes  Ethnicity_Asian  Ethnicity_Caucasian  \n",
       "0            0            1                0                    1  \n",
       "1            1            1                1                    0  \n",
       "2            0            0                1                    0  "
      ]
     },
     "execution_count": 5,
     "metadata": {},
     "output_type": "execute_result"
    }
   ],
   "source": [
    "credit = pd.get_dummies(credit, columns = ['Gender', 'Student','Married','Ethnicity'],drop_first = True)\n",
    "credit.head(3)"
   ]
  },
  {
   "cell_type": "markdown",
   "metadata": {},
   "source": [
    "Для выбора наилучшей модели, обучим модели для каждого набора признаков и потом выберем лучший."
   ]
  },
  {
   "cell_type": "code",
   "execution_count": null,
   "metadata": {},
   "outputs": [],
   "source": [
    "def fit_linear_reg(X,Y):\n",
    "    #Обучаем линейную регрессию и возвращаем RSS и R^2\n",
    "    model_k = linear_model.LinearRegression(fit_intercept = True)\n",
    "    model_k.fit(X,Y)\n",
    "    RSS = mean_squared_error(Y,model_k.predict(X)) * len(Y)\n",
    "    R_squared = model_k.score(X,Y)\n",
    "    return RSS, R_squared"
   ]
  },
  {
   "cell_type": "markdown",
   "metadata": {},
   "source": [
    "**Реализуем выбор лучшего набора (thru itertools.combinations)**"
   ]
  },
  {
   "cell_type": "code",
   "execution_count": 8,
   "metadata": {},
   "outputs": [
    {
     "data": {
      "application/vnd.jupyter.widget-view+json": {
       "model_id": "0ed9b207ede94010a474ea8d1d3716dc",
       "version_major": 2,
       "version_minor": 0
      },
      "text/plain": [
       "HBox(children=(IntProgress(value=0, description='Loop...', max=11, style=ProgressStyle(description_width='init…"
      ]
     },
     "metadata": {},
     "output_type": "display_data"
    },
    {
     "name": "stdout",
     "output_type": "stream",
     "text": [
      "\n"
     ]
    }
   ],
   "source": [
    "#Импортим tqdm для прогрессбара\n",
    "from tqdm import tnrange, tqdm_notebook\n",
    "\n",
    "#инит\n",
    "Y = credit.Balance\n",
    "X = credit.drop(columns = 'Balance', axis = 1)\n",
    "k = 11\n",
    "RSS_list, R_squared_list, feature_list = [],[], []\n",
    "numb_features = []\n",
    "\n",
    "#Итерируем от 1 до 11 признаков в X\n",
    "for k in tnrange(1,len(X.columns) + 1, desc = 'Loop...'):\n",
    "\n",
    "    #Итерируем по всем возможным комбинациям, из 11 берём k\n",
    "    for combo in itertools.combinations(X.columns,k):\n",
    "        tmp_result = fit_linear_reg(X[list(combo)],Y)   #Храним промежуточный \n",
    "        RSS_list.append(tmp_result[0]) #соединяем списки\n",
    "        R_squared_list.append(tmp_result[1])\n",
    "        feature_list.append(combo)\n",
    "        numb_features.append(len(combo))   \n",
    "\n",
    "#храним в датафрейме\n",
    "df = pd.DataFrame({'numb_features': numb_features,'RSS': RSS_list, 'R_squared':R_squared_list,'features':feature_list})"
   ]
  },
  {
   "cell_type": "markdown",
   "metadata": {},
   "source": [
    "Находим лучшие наборы для каждого кол-ва признаков"
   ]
  },
  {
   "cell_type": "code",
   "execution_count": 9,
   "metadata": {},
   "outputs": [
    {
     "data": {
      "text/html": [
       "<div>\n",
       "<style scoped>\n",
       "    .dataframe tbody tr th:only-of-type {\n",
       "        vertical-align: middle;\n",
       "    }\n",
       "\n",
       "    .dataframe tbody tr th {\n",
       "        vertical-align: top;\n",
       "    }\n",
       "\n",
       "    .dataframe thead th {\n",
       "        text-align: right;\n",
       "    }\n",
       "</style>\n",
       "<table border=\"1\" class=\"dataframe\">\n",
       "  <thead>\n",
       "    <tr style=\"text-align: right;\">\n",
       "      <th></th>\n",
       "      <th>numb_features</th>\n",
       "      <th>RSS</th>\n",
       "      <th>R_squared</th>\n",
       "      <th>features</th>\n",
       "    </tr>\n",
       "  </thead>\n",
       "  <tbody>\n",
       "    <tr>\n",
       "      <th>2</th>\n",
       "      <td>1</td>\n",
       "      <td>2.143512e+07</td>\n",
       "      <td>0.745848</td>\n",
       "      <td>(Rating,)</td>\n",
       "    </tr>\n",
       "    <tr>\n",
       "      <th>12</th>\n",
       "      <td>2</td>\n",
       "      <td>1.053254e+07</td>\n",
       "      <td>0.875118</td>\n",
       "      <td>(Income, Rating)</td>\n",
       "    </tr>\n",
       "    <tr>\n",
       "      <th>79</th>\n",
       "      <td>3</td>\n",
       "      <td>4.227219e+06</td>\n",
       "      <td>0.949879</td>\n",
       "      <td>(Income, Rating, Student_Yes)</td>\n",
       "    </tr>\n",
       "  </tbody>\n",
       "</table>\n",
       "</div>"
      ],
      "text/plain": [
       "    numb_features           RSS  R_squared                       features\n",
       "2               1  2.143512e+07   0.745848                      (Rating,)\n",
       "12              2  1.053254e+07   0.875118               (Income, Rating)\n",
       "79              3  4.227219e+06   0.949879  (Income, Rating, Student_Yes)"
      ]
     },
     "metadata": {},
     "output_type": "display_data"
    },
    {
     "data": {
      "text/html": [
       "<div>\n",
       "<style scoped>\n",
       "    .dataframe tbody tr th:only-of-type {\n",
       "        vertical-align: middle;\n",
       "    }\n",
       "\n",
       "    .dataframe tbody tr th {\n",
       "        vertical-align: top;\n",
       "    }\n",
       "\n",
       "    .dataframe thead th {\n",
       "        text-align: right;\n",
       "    }\n",
       "</style>\n",
       "<table border=\"1\" class=\"dataframe\">\n",
       "  <thead>\n",
       "    <tr style=\"text-align: right;\">\n",
       "      <th></th>\n",
       "      <th>numb_features</th>\n",
       "      <th>RSS</th>\n",
       "      <th>R_squared</th>\n",
       "      <th>features</th>\n",
       "    </tr>\n",
       "  </thead>\n",
       "  <tbody>\n",
       "    <tr>\n",
       "      <th>2</th>\n",
       "      <td>1</td>\n",
       "      <td>2.143512e+07</td>\n",
       "      <td>0.745848</td>\n",
       "      <td>(Rating,)</td>\n",
       "    </tr>\n",
       "    <tr>\n",
       "      <th>12</th>\n",
       "      <td>2</td>\n",
       "      <td>1.053254e+07</td>\n",
       "      <td>0.875118</td>\n",
       "      <td>(Income, Rating)</td>\n",
       "    </tr>\n",
       "    <tr>\n",
       "      <th>79</th>\n",
       "      <td>3</td>\n",
       "      <td>4.227219e+06</td>\n",
       "      <td>0.949879</td>\n",
       "      <td>(Income, Rating, Student_Yes)</td>\n",
       "    </tr>\n",
       "  </tbody>\n",
       "</table>\n",
       "</div>"
      ],
      "text/plain": [
       "    numb_features           RSS  R_squared                       features\n",
       "2               1  2.143512e+07   0.745848                      (Rating,)\n",
       "12              2  1.053254e+07   0.875118               (Income, Rating)\n",
       "79              3  4.227219e+06   0.949879  (Income, Rating, Student_Yes)"
      ]
     },
     "metadata": {},
     "output_type": "display_data"
    }
   ],
   "source": [
    "df_min = df[df.groupby('numb_features')['RSS'].transform(min) == df['RSS']]\n",
    "df_max = df[df.groupby('numb_features')['R_squared'].transform(max) == df['R_squared']]\n",
    "display(df_min.head(3))\n",
    "display(df_max.head(3))"
   ]
  },
  {
   "cell_type": "markdown",
   "metadata": {},
   "source": [
    "Добавляем столбцы в датафрейм с RSS и R2 для лучшего набора"
   ]
  },
  {
   "cell_type": "code",
   "execution_count": 10,
   "metadata": {},
   "outputs": [
    {
     "data": {
      "text/html": [
       "<div>\n",
       "<style scoped>\n",
       "    .dataframe tbody tr th:only-of-type {\n",
       "        vertical-align: middle;\n",
       "    }\n",
       "\n",
       "    .dataframe tbody tr th {\n",
       "        vertical-align: top;\n",
       "    }\n",
       "\n",
       "    .dataframe thead th {\n",
       "        text-align: right;\n",
       "    }\n",
       "</style>\n",
       "<table border=\"1\" class=\"dataframe\">\n",
       "  <thead>\n",
       "    <tr style=\"text-align: right;\">\n",
       "      <th></th>\n",
       "      <th>numb_features</th>\n",
       "      <th>RSS</th>\n",
       "      <th>R_squared</th>\n",
       "      <th>features</th>\n",
       "      <th>min_RSS</th>\n",
       "      <th>max_R_squared</th>\n",
       "    </tr>\n",
       "  </thead>\n",
       "  <tbody>\n",
       "    <tr>\n",
       "      <th>0</th>\n",
       "      <td>1</td>\n",
       "      <td>6.620874e+07</td>\n",
       "      <td>0.214977</td>\n",
       "      <td>(Income,)</td>\n",
       "      <td>2.143512e+07</td>\n",
       "      <td>0.745848</td>\n",
       "    </tr>\n",
       "    <tr>\n",
       "      <th>1</th>\n",
       "      <td>1</td>\n",
       "      <td>2.171566e+07</td>\n",
       "      <td>0.742522</td>\n",
       "      <td>(Limit,)</td>\n",
       "      <td>2.143512e+07</td>\n",
       "      <td>0.745848</td>\n",
       "    </tr>\n",
       "    <tr>\n",
       "      <th>2</th>\n",
       "      <td>1</td>\n",
       "      <td>2.143512e+07</td>\n",
       "      <td>0.745848</td>\n",
       "      <td>(Rating,)</td>\n",
       "      <td>2.143512e+07</td>\n",
       "      <td>0.745848</td>\n",
       "    </tr>\n",
       "    <tr>\n",
       "      <th>3</th>\n",
       "      <td>1</td>\n",
       "      <td>8.370950e+07</td>\n",
       "      <td>0.007475</td>\n",
       "      <td>(Cards,)</td>\n",
       "      <td>2.143512e+07</td>\n",
       "      <td>0.745848</td>\n",
       "    </tr>\n",
       "    <tr>\n",
       "      <th>4</th>\n",
       "      <td>1</td>\n",
       "      <td>8.433963e+07</td>\n",
       "      <td>0.000003</td>\n",
       "      <td>(Age,)</td>\n",
       "      <td>2.143512e+07</td>\n",
       "      <td>0.745848</td>\n",
       "    </tr>\n",
       "  </tbody>\n",
       "</table>\n",
       "</div>"
      ],
      "text/plain": [
       "   numb_features           RSS  R_squared   features       min_RSS  \\\n",
       "0              1  6.620874e+07   0.214977  (Income,)  2.143512e+07   \n",
       "1              1  2.171566e+07   0.742522   (Limit,)  2.143512e+07   \n",
       "2              1  2.143512e+07   0.745848  (Rating,)  2.143512e+07   \n",
       "3              1  8.370950e+07   0.007475   (Cards,)  2.143512e+07   \n",
       "4              1  8.433963e+07   0.000003     (Age,)  2.143512e+07   \n",
       "\n",
       "   max_R_squared  \n",
       "0       0.745848  \n",
       "1       0.745848  \n",
       "2       0.745848  \n",
       "3       0.745848  \n",
       "4       0.745848  "
      ]
     },
     "execution_count": 10,
     "metadata": {},
     "output_type": "execute_result"
    }
   ],
   "source": [
    "df['min_RSS'] = df.groupby('numb_features')['RSS'].transform(min)\n",
    "df['max_R_squared'] = df.groupby('numb_features')['R_squared'].transform(max)\n",
    "df.head()"
   ]
  },
  {
   "cell_type": "markdown",
   "metadata": {},
   "source": [
    "**Графики процесса выбора лучших наборов**"
   ]
  },
  {
   "cell_type": "code",
   "execution_count": 11,
   "metadata": {
    "scrolled": false
   },
   "outputs": [
    {
     "data": {
      "image/png": "[encoded data removed]",
      "text/plain": [
       "<Figure size 1152x432 with 2 Axes>"
      ]
     },
     "metadata": {},
     "output_type": "display_data"
    }
   ],
   "source": [
    "fig = plt.figure(figsize = (16,6))\n",
    "ax = fig.add_subplot(1, 2, 1)\n",
    "\n",
    "ax.scatter(df.numb_features,df.RSS, alpha = .2, color = 'darkblue' )\n",
    "ax.set_xlabel('# Features')\n",
    "ax.set_ylabel('RSS')\n",
    "ax.set_title('RSS - Best subset selection')\n",
    "ax.plot(df.numb_features,df.min_RSS,color = 'r', label = 'Best subset')\n",
    "ax.legend()\n",
    "\n",
    "ax = fig.add_subplot(1, 2, 2)\n",
    "ax.scatter(df.numb_features,df.R_squared, alpha = .2, color = 'darkblue' )\n",
    "ax.plot(df.numb_features,df.max_R_squared,color = 'r', label = 'Best subset')\n",
    "ax.set_xlabel('# Features')\n",
    "ax.set_ylabel('R squared')\n",
    "ax.set_title('R_squared - Best subset selection')\n",
    "ax.legend()\n",
    "\n",
    "plt.show()"
   ]
  },
  {
   "cell_type": "markdown",
   "metadata": {},
   "source": [
    "**Пошаговое добавление признаков**"
   ]
  },
  {
   "cell_type": "code",
   "execution_count": 13,
   "metadata": {
    "scrolled": true
   },
   "outputs": [
    {
     "name": "stdout",
     "output_type": "stream",
     "text": [
      "Forward stepwise subset selection\n",
      "Number of features | Features | RSS\n"
     ]
    },
    {
     "data": {
      "text/plain": [
       "[(1, ['Rating'], 21435122.0),\n",
       " (2, ['Rating', 'Income'], 10532541.0),\n",
       " (3, ['Rating', 'Income', 'Student_Yes'], 4227219.0),\n",
       " (4, ['Rating', 'Income', 'Student_Yes', 'Limit'], 4032502.0)]"
      ]
     },
     "metadata": {},
     "output_type": "display_data"
    }
   ],
   "source": [
    "Y = credit.Balance\n",
    "X = credit.drop(columns = 'Balance', axis = 1)\n",
    "k = 11\n",
    "\n",
    "remaining_features = list(X.columns.values)\n",
    "features = []\n",
    "RSS_list, R_squared_list = [np.inf], [np.inf]\n",
    "features_list = dict()\n",
    "\n",
    "for i in range(1,k+1):\n",
    "    best_RSS = np.inf\n",
    "    \n",
    "    for combo in itertools.combinations(remaining_features,1):\n",
    "\n",
    "            RSS = fit_linear_reg(X[list(combo) + features],Y)    \n",
    "            #Храним временный результат\n",
    "            if RSS[0] < best_RSS:\n",
    "                best_RSS = RSS[0]\n",
    "                best_R_squared = RSS[1] \n",
    "                best_feature = combo[0]\n",
    "\n",
    "    #Обновляем переменные для некст итерации\n",
    "    features.append(best_feature)\n",
    "    remaining_features.remove(best_feature)\n",
    "    RSS_list.append(best_RSS)\n",
    "    R_squared_list.append(best_R_squared)\n",
    "    features_list[i] = features.copy()\n",
    "\n",
    "print('Forward stepwise subset selection')\n",
    "print('Number of features |', 'Features |', 'RSS')\n",
    "display([(i,features_list[i], round(RSS_list[i])) for i in range(1,5)])"
   ]
  },
  {
   "cell_type": "markdown",
   "metadata": {},
   "source": [
    "**AIC, BIC, Mallow's CP**\n",
    "\n",
    "Mallow's CP\n",
    "\n",
    "$$C_p=\\frac{1}{m}(RSS+2d \\hat{\\sigma}^2 )$$, где \n",
    "\n",
    "AIC - оценивающий модели с разным числом параметров. Критерий связан с понятием расстояния Кульбака — Лейблера, при помощи которого можно оценить расстояние между моделями. AIC = $2K+n\\[\\ln(\\hat{\\sigma}^2)\\]$ \n",
    "$$ SSE=\\|f(x_i)-y_i\\|_2=\\sum_{i=1}^N(y_i-f(w,x_i))^2;$$\n",
    "\n",
    "$\\hat{\\sigma}^2=\\frac{SSE}{N-2}$ — дисперсия остатков;\n",
    "Лучшая модель соответствует минимальному значению критерия Акаике. Абсолютное значение критерия не несет в себе полезной информации.\n",
    "\n",
    "BIC\n",
    "\n",
    "Выпишем через SSE (Sum of Squared Errors) - сумму квадратов остатков:\n",
    "$$BIC=n\\ln\\frac{SSE}{n}+k\\ln n.$$\n",
    "В данном случае логарифмируется смещенная оценка дисперсии регрессионных остатков.\n",
    "\n"
   ]
  },
  {
   "cell_type": "markdown",
   "metadata": {},
   "source": [
    "Подогнанный $R^2$\n",
    "\n",
    "Т.к. $R^2$ всегда увелчивается по мере роста кол-ва переменных, данная версия включает штраф. Помогает справляться с шумами (новыми переменными, которые даже не сильно уменьшают RSS), т.е, платим цену за включение ненужных переменных в модели.\n",
    "\n",
    "$$R^2_a= 1-\\frac{RSS/(m−k−1)}{TSS/(m−1)}= 1 − (1−R^2)\\frac{m−1}{m−k−1}$$"
   ]
  },
  {
   "cell_type": "code",
   "execution_count": 14,
   "metadata": {},
   "outputs": [],
   "source": [
    "df1 = pd.concat([pd.DataFrame({'features':features_list}),pd.DataFrame({'RSS':RSS_list, 'R_squared': R_squared_list})], axis=1, join='inner')\n",
    "df1['numb_features'] = df1.index"
   ]
  },
  {
   "cell_type": "code",
   "execution_count": 15,
   "metadata": {},
   "outputs": [
    {
     "data": {
      "text/html": [
       "<div>\n",
       "<style scoped>\n",
       "    .dataframe tbody tr th:only-of-type {\n",
       "        vertical-align: middle;\n",
       "    }\n",
       "\n",
       "    .dataframe tbody tr th {\n",
       "        vertical-align: top;\n",
       "    }\n",
       "\n",
       "    .dataframe thead th {\n",
       "        text-align: right;\n",
       "    }\n",
       "</style>\n",
       "<table border=\"1\" class=\"dataframe\">\n",
       "  <thead>\n",
       "    <tr style=\"text-align: right;\">\n",
       "      <th></th>\n",
       "      <th>features</th>\n",
       "      <th>RSS</th>\n",
       "      <th>R_squared</th>\n",
       "      <th>numb_features</th>\n",
       "      <th>C_p</th>\n",
       "      <th>AIC</th>\n",
       "      <th>BIC</th>\n",
       "      <th>R_squared_adj</th>\n",
       "    </tr>\n",
       "  </thead>\n",
       "  <tbody>\n",
       "    <tr>\n",
       "      <th>1</th>\n",
       "      <td>[Rating]</td>\n",
       "      <td>2.143512e+07</td>\n",
       "      <td>0.745848</td>\n",
       "      <td>1</td>\n",
       "      <td>53636.603151</td>\n",
       "      <td>5.495771</td>\n",
       "      <td>5.505750</td>\n",
       "      <td>0.745210</td>\n",
       "    </tr>\n",
       "    <tr>\n",
       "      <th>2</th>\n",
       "      <td>[Rating, Income]</td>\n",
       "      <td>1.053254e+07</td>\n",
       "      <td>0.875118</td>\n",
       "      <td>2</td>\n",
       "      <td>26428.949364</td>\n",
       "      <td>2.707991</td>\n",
       "      <td>2.727949</td>\n",
       "      <td>0.874489</td>\n",
       "    </tr>\n",
       "    <tr>\n",
       "      <th>3</th>\n",
       "      <td>[Rating, Income, Student_Yes]</td>\n",
       "      <td>4.227219e+06</td>\n",
       "      <td>0.949879</td>\n",
       "      <td>3</td>\n",
       "      <td>10714.442485</td>\n",
       "      <td>1.097835</td>\n",
       "      <td>1.127771</td>\n",
       "      <td>0.949499</td>\n",
       "    </tr>\n",
       "    <tr>\n",
       "      <th>4</th>\n",
       "      <td>[Rating, Income, Student_Yes, Limit]</td>\n",
       "      <td>4.032502e+06</td>\n",
       "      <td>0.952188</td>\n",
       "      <td>4</td>\n",
       "      <td>10276.446437</td>\n",
       "      <td>1.052956</td>\n",
       "      <td>1.092871</td>\n",
       "      <td>0.951703</td>\n",
       "    </tr>\n",
       "    <tr>\n",
       "      <th>5</th>\n",
       "      <td>[Rating, Income, Student_Yes, Limit, Cards]</td>\n",
       "      <td>3.866091e+06</td>\n",
       "      <td>0.954161</td>\n",
       "      <td>5</td>\n",
       "      <td>9909.218362</td>\n",
       "      <td>1.015329</td>\n",
       "      <td>1.065222</td>\n",
       "      <td>0.953579</td>\n",
       "    </tr>\n",
       "    <tr>\n",
       "      <th>6</th>\n",
       "      <td>[Rating, Income, Student_Yes, Limit, Cards, Age]</td>\n",
       "      <td>3.821620e+06</td>\n",
       "      <td>0.954688</td>\n",
       "      <td>6</td>\n",
       "      <td>9846.837591</td>\n",
       "      <td>1.008937</td>\n",
       "      <td>1.068809</td>\n",
       "      <td>0.953996</td>\n",
       "    </tr>\n",
       "    <tr>\n",
       "      <th>7</th>\n",
       "      <td>[Rating, Income, Student_Yes, Limit, Cards, Ag...</td>\n",
       "      <td>3.810759e+06</td>\n",
       "      <td>0.954817</td>\n",
       "      <td>7</td>\n",
       "      <td>9868.483418</td>\n",
       "      <td>1.011155</td>\n",
       "      <td>1.081006</td>\n",
       "      <td>0.954010</td>\n",
       "    </tr>\n",
       "    <tr>\n",
       "      <th>8</th>\n",
       "      <td>[Rating, Income, Student_Yes, Limit, Cards, Ag...</td>\n",
       "      <td>3.804746e+06</td>\n",
       "      <td>0.954888</td>\n",
       "      <td>8</td>\n",
       "      <td>9902.248962</td>\n",
       "      <td>1.014615</td>\n",
       "      <td>1.094444</td>\n",
       "      <td>0.953965</td>\n",
       "    </tr>\n",
       "    <tr>\n",
       "      <th>9</th>\n",
       "      <td>[Rating, Income, Student_Yes, Limit, Cards, Ag...</td>\n",
       "      <td>3.798367e+06</td>\n",
       "      <td>0.954964</td>\n",
       "      <td>9</td>\n",
       "      <td>9935.100415</td>\n",
       "      <td>1.017981</td>\n",
       "      <td>1.107789</td>\n",
       "      <td>0.953924</td>\n",
       "    </tr>\n",
       "    <tr>\n",
       "      <th>10</th>\n",
       "      <td>[Rating, Income, Student_Yes, Limit, Cards, Ag...</td>\n",
       "      <td>3.791345e+06</td>\n",
       "      <td>0.955047</td>\n",
       "      <td>10</td>\n",
       "      <td>9966.344067</td>\n",
       "      <td>1.021182</td>\n",
       "      <td>1.120969</td>\n",
       "      <td>0.953891</td>\n",
       "    </tr>\n",
       "    <tr>\n",
       "      <th>11</th>\n",
       "      <td>[Rating, Income, Student_Yes, Limit, Cards, Ag...</td>\n",
       "      <td>3.786730e+06</td>\n",
       "      <td>0.955102</td>\n",
       "      <td>11</td>\n",
       "      <td>10003.604241</td>\n",
       "      <td>1.025000</td>\n",
       "      <td>1.134765</td>\n",
       "      <td>0.953829</td>\n",
       "    </tr>\n",
       "  </tbody>\n",
       "</table>\n",
       "</div>"
      ],
      "text/plain": [
       "                                             features           RSS  \\\n",
       "1                                            [Rating]  2.143512e+07   \n",
       "2                                    [Rating, Income]  1.053254e+07   \n",
       "3                       [Rating, Income, Student_Yes]  4.227219e+06   \n",
       "4                [Rating, Income, Student_Yes, Limit]  4.032502e+06   \n",
       "5         [Rating, Income, Student_Yes, Limit, Cards]  3.866091e+06   \n",
       "6    [Rating, Income, Student_Yes, Limit, Cards, Age]  3.821620e+06   \n",
       "7   [Rating, Income, Student_Yes, Limit, Cards, Ag...  3.810759e+06   \n",
       "8   [Rating, Income, Student_Yes, Limit, Cards, Ag...  3.804746e+06   \n",
       "9   [Rating, Income, Student_Yes, Limit, Cards, Ag...  3.798367e+06   \n",
       "10  [Rating, Income, Student_Yes, Limit, Cards, Ag...  3.791345e+06   \n",
       "11  [Rating, Income, Student_Yes, Limit, Cards, Ag...  3.786730e+06   \n",
       "\n",
       "    R_squared  numb_features           C_p       AIC       BIC  R_squared_adj  \n",
       "1    0.745848              1  53636.603151  5.495771  5.505750       0.745210  \n",
       "2    0.875118              2  26428.949364  2.707991  2.727949       0.874489  \n",
       "3    0.949879              3  10714.442485  1.097835  1.127771       0.949499  \n",
       "4    0.952188              4  10276.446437  1.052956  1.092871       0.951703  \n",
       "5    0.954161              5   9909.218362  1.015329  1.065222       0.953579  \n",
       "6    0.954688              6   9846.837591  1.008937  1.068809       0.953996  \n",
       "7    0.954817              7   9868.483418  1.011155  1.081006       0.954010  \n",
       "8    0.954888              8   9902.248962  1.014615  1.094444       0.953965  \n",
       "9    0.954964              9   9935.100415  1.017981  1.107789       0.953924  \n",
       "10   0.955047             10   9966.344067  1.021182  1.120969       0.953891  \n",
       "11   0.955102             11  10003.604241  1.025000  1.134765       0.953829  "
      ]
     },
     "execution_count": 15,
     "metadata": {},
     "output_type": "execute_result"
    }
   ],
   "source": [
    "m = len(Y)\n",
    "p = 11\n",
    "hat_sigma_squared = (1/(m - p -1)) * min(df1['RSS'])\n",
    "\n",
    "#Считаем оценки\n",
    "df1['C_p'] = (1/m) * (df1['RSS'] + 2 * df1['numb_features'] * hat_sigma_squared )\n",
    "df1['AIC'] = (1/(m*hat_sigma_squared)) * (df1['RSS'] + 2 * df1['numb_features'] * hat_sigma_squared )\n",
    "df1['BIC'] = (1/(m*hat_sigma_squared)) * (df1['RSS'] +  np.log(m) * df1['numb_features'] * hat_sigma_squared )\n",
    "df1['R_squared_adj'] = 1 - ( (1 - df1['R_squared'])*(m-1)/(m-df1['numb_features'] -1))\n",
    "df1"
   ]
  },
  {
   "cell_type": "code",
   "execution_count": 16,
   "metadata": {},
   "outputs": [
    {
     "data": {
      "text/plain": [
       "0.9540098163629882"
      ]
     },
     "execution_count": 16,
     "metadata": {},
     "output_type": "execute_result"
    }
   ],
   "source": [
    "df1['R_squared_adj'].idxmax()\n",
    "df1['R_squared_adj'].max()"
   ]
  },
  {
   "cell_type": "markdown",
   "metadata": {},
   "source": [
    "Строим полученные значения как функцию от кол-ва признаков"
   ]
  },
  {
   "cell_type": "code",
   "execution_count": 18,
   "metadata": {},
   "outputs": [
    {
     "data": {
      "image/png": "[encoded data removed]",
      "text/plain": [
       "<Figure size 1296x432 with 4 Axes>"
      ]
     },
     "metadata": {},
     "output_type": "display_data"
    }
   ],
   "source": [
    "variables = ['C_p', 'AIC','BIC','R_squared_adj']\n",
    "fig = plt.figure(figsize = (18,6))\n",
    "\n",
    "for i,v in enumerate(variables):\n",
    "    ax = fig.add_subplot(1, 4, i+1)\n",
    "    ax.plot(df1['numb_features'],df1[v], color = 'lightblue')\n",
    "    ax.scatter(df1['numb_features'],df1[v], color = 'darkblue')\n",
    "    if v == 'R_squared_adj':\n",
    "        ax.plot(df1[v].idxmax(),df1[v].max(), marker = 'x', markersize = 20)\n",
    "    else:\n",
    "        ax.plot(df1[v].idxmin(),df1[v].min(), marker = 'x', markersize = 20)\n",
    "    ax.set_xlabel('Number of features')\n",
    "    ax.set_ylabel(v)\n",
    "\n",
    "fig.suptitle('Subset selection using C_p, AIC, BIC, Adjusted R2', fontsize = 16)\n",
    "plt.show()"
   ]
  }
 ],
 "metadata": {
  "kernelspec": {
   "display_name": "Python 3",
   "language": "python",
   "name": "python3"
  },
  "language_info": {
   "codemirror_mode": {
    "name": "ipython",
    "version": 3
   },
   "file_extension": ".py",
   "mimetype": "text/x-python",
   "name": "python",
   "nbconvert_exporter": "python",
   "pygments_lexer": "ipython3",
   "version": "3.6.7"
  }
 },
 "nbformat": 4,
 "nbformat_minor": 2
}
